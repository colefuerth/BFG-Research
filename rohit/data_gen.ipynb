{
 "cells": [
  {
   "cell_type": "code",
   "execution_count": null,
   "metadata": {},
   "outputs": [],
   "source": [
    "import pandas as pd\n",
    "import matplotlib.pyplot as plt\n",
    "import numpy as np\n",
    "import datetime"
   ]
  },
  {
   "cell_type": "code",
   "execution_count": null,
   "metadata": {},
   "outputs": [],
   "source": [
    "BFG1 = pd.read_csv(\"LC709203F_5.csv\")\n",
    "BFG2 = pd.read_csv(\"MAX17043_5.csv\")\n",
    "BFG_arbin = pd.read_csv('BFG_take_2_Channel_2_Wb_1.CSV')"
   ]
  },
  {
   "cell_type": "code",
   "execution_count": null,
   "metadata": {},
   "outputs": [],
   "source": [
    "# convert the timestamps to datetime objects\n",
    "BFG1['Timestamp'] = pd.to_datetime(BFG1['Timestamp'])\n",
    "BFG2['Timestamp'] = pd.to_datetime(BFG2['Timestamp'])\n",
    "BFG_arbin['Date_Time'] = pd.to_datetime(BFG_arbin['Date_Time'])\n",
    "# convert arbin timestamps from EST (-4) to UTC (0)\n",
    "BFG_arbin['Date_Time'] = BFG_arbin['Date_Time'] + datetime.timedelta(hours=4)\n",
    "# mark the timezone on arbin as UTC (now that we applied the offset)\n",
    "BFG_arbin['Date_Time'] = BFG_arbin['Date_Time'].dt.tz_localize('UTC')"
   ]
  },
  {
   "cell_type": "code",
   "execution_count": null,
   "metadata": {},
   "outputs": [],
   "source": [
    "# find the first datapoint on the BFGs that occurs AFTER beginning the Arbin data collection\n",
    "front = 0\n",
    "for entry in BFG1['Timestamp']:\n",
    "    if entry < BFG_arbin['Date_Time'][0]:\n",
    "        front += 1\n",
    "    else:\n",
    "        break\n",
    "# find the first datapoint on the BFGs that occurs AFTER completing the Arbin data collection (commented out because rohit does not want to drop the back points, but this is how we find that point)\n",
    "back = 0\n",
    "for entry in reversed(BFG1['Timestamp']):\n",
    "    if entry > BFG_arbin['Date_Time'].iat[-1]:\n",
    "        back += 1\n",
    "    else:\n",
    "        break\n",
    "\n",
    "# drop rows from the beginning and end of the data that do not line up (rohit says do not drop the back points)\n",
    "# add `-back` to 'front:' to drop the back points\n",
    "BFG1 = BFG1.iloc[front:-back, :]\n",
    "BFG2 = BFG2.iloc[front:-back, :]"
   ]
  },
  {
   "cell_type": "code",
   "execution_count": null,
   "metadata": {},
   "outputs": [],
   "source": [
    "# print timestamps for comparison\n",
    "print(BFG1['Timestamp'])\n",
    "print(BFG2['Timestamp'])\n",
    "print(BFG_arbin['Date_Time'])\n"
   ]
  },
  {
   "cell_type": "code",
   "execution_count": null,
   "metadata": {},
   "outputs": [],
   "source": [
    "# get relevant columns from the tables\n",
    "\n",
    "BFG_ar_cur = BFG_arbin['Current(A)']\n",
    "BFG_ar_vol = BFG_arbin['Voltage(V)']\n",
    "BFG_ar_time = BFG_arbin['Date_Time']\n",
    "\n",
    "BFG_1_vol = BFG1['Voltage']\n",
    "BFG_2_vol = BFG2['Voltage']\n",
    "BFG_1_2_time = BFG1['Timestamp']"
   ]
  },
  {
   "cell_type": "code",
   "execution_count": null,
   "metadata": {},
   "outputs": [],
   "source": [
    "# plot the data\n",
    "\n",
    "plt.plot(BFG_1_2_time, BFG_1_vol, label='BFG_1')\n",
    "plt.plot(BFG_1_2_time, BFG_2_vol, label='BFG_2')\n",
    "plt.plot(BFG_ar_time, BFG_ar_vol, label='Arbin')\n",
    "plt.legend(['BFG_1 (Adafruit)', 'BFG_2 (Maximum Integrated)', 'Arbin'])\n",
    "plt.title('Voltage Comparison')\n",
    "plt.show()"
   ]
  }
 ],
 "metadata": {
  "kernelspec": {
   "display_name": "Python 3.10.4 64-bit",
   "language": "python",
   "name": "python3"
  },
  "language_info": {
   "codemirror_mode": {
    "name": "ipython",
    "version": 3
   },
   "file_extension": ".py",
   "mimetype": "text/x-python",
   "name": "python",
   "nbconvert_exporter": "python",
   "pygments_lexer": "ipython3",
   "version": "3.10.4"
  },
  "orig_nbformat": 4,
  "vscode": {
   "interpreter": {
    "hash": "31f2aee4e71d21fbe5cf8b01ff0e069b9275f58929596ceb00d14d90e3e16cd6"
   }
  }
 },
 "nbformat": 4,
 "nbformat_minor": 2
}
