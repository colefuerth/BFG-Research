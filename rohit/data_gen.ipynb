{
 "cells": [
  {
   "cell_type": "markdown",
   "metadata": {},
   "source": [
    "# Synchronize Timestamps across multiple CSV files\n",
    "\n",
    "- truncate leading and trailing timestamps\n",
    "- uses the lowest resolution timestamp interval from all the CSV files\n",
    "- for each point at the lowest resolution, find the nearest point in each CSV file and collect them into a new CSV file"
   ]
  },
  {
   "cell_type": "code",
   "execution_count": 1,
   "metadata": {},
   "outputs": [],
   "source": [
    "import pandas as pd\n",
    "import matplotlib.pyplot as plt\n",
    "import numpy as np\n",
    "import datetime"
   ]
  },
  {
   "cell_type": "code",
   "execution_count": 2,
   "metadata": {},
   "outputs": [],
   "source": [
    "BFG1 = pd.read_csv(\"LC709203F_5.csv\")\n",
    "BFG2 = pd.read_csv(\"MAX17043_5.csv\")\n",
    "BFG_arbin = pd.read_csv('BFG_take_2_Channel_2_Wb_1.CSV')"
   ]
  },
  {
   "cell_type": "code",
   "execution_count": 3,
   "metadata": {},
   "outputs": [],
   "source": [
    "# convert the timestamps to datetime objects\n",
    "BFG1['Timestamp'] = pd.to_datetime(BFG1['Timestamp'])\n",
    "BFG2['Timestamp'] = pd.to_datetime(BFG2['Timestamp'])\n",
    "BFG_arbin['Date_Time'] = pd.to_datetime(BFG_arbin['Date_Time'])\n",
    "# convert arbin timestamps from EST (-4 at time of recording) to UTC (0) \n",
    "if BFG_arbin['Date_Time'].iat[0].tzinfo is None:\n",
    "    BFG_arbin['Date_Time'] = BFG_arbin['Date_Time'] + datetime.timedelta(hours=4)\n",
    "    BFG_arbin['Date_Time'] = BFG_arbin['Date_Time'].dt.tz_localize('UTC')\n",
    "# add decimal seconds to arbin timestamps (arbin timestamps are in whole seconds, but recorded at 2hz)\n",
    "BFG_arbin['Test_Time(s)'] = BFG_arbin['Test_Time(s)'].astype(float) % 1\n",
    "BFG_arbin['Date_Time'] = BFG_arbin['Date_Time'] + pd.to_timedelta(BFG_arbin['Test_Time(s)'], unit='s')\n",
    "\n",
    "# rename relevant columns for comparing to BFG1 and BFG2\n",
    "BFG_arbin = BFG_arbin.rename(columns={'Date_Time': 'Timestamp', 'Current(A)': 'Current', 'Voltage(V)': 'Voltage'})\n",
    "\n",
    "# create a dict of the dataframes\n",
    "dfnames = {'LC709203F': BFG1, 'MAX17043': BFG2, 'Arbin': BFG_arbin}"
   ]
  },
  {
   "cell_type": "code",
   "execution_count": 4,
   "metadata": {},
   "outputs": [],
   "source": [
    "# truncate database entries that have timestamps that are leading or trailing\n",
    "\n",
    "# drop datapoints that are outside of the range of the timestamps\n",
    "first = max([df['Timestamp'].iat[0] for df in dfnames.values()])\n",
    "last = min([df['Timestamp'].iat[-1] for df in dfnames.values()])\n",
    "for name, df in dfnames.items():\n",
    "    df = df.drop(df[(df.Timestamp < first) | (df.Timestamp > last)].index)\n",
    "    df = df.reset_index(drop=True)\n",
    "    dfnames[name] = df"
   ]
  },
  {
   "cell_type": "code",
   "execution_count": 5,
   "metadata": {},
   "outputs": [],
   "source": [
    "# create the output dataset and fill it with data that can be directly compared to the Arbin data\n",
    "output_df = pd.DataFrame()\n",
    "\n",
    "# reuse the timestamp column with the lowest resolution column\n",
    "output_df['Timestamp'] = max(dfnames.values(), key=lambda x: x.Timestamp.diff().mean())['Timestamp']"
   ]
  },
  {
   "cell_type": "code",
   "execution_count": 6,
   "metadata": {},
   "outputs": [
    {
     "data": {
      "image/png": "[encoded data removed]",
      "text/plain": [
       "<Figure size 432x288 with 1 Axes>"
      ]
     },
     "metadata": {
      "needs_background": "light"
     },
     "output_type": "display_data"
    }
   ],
   "source": [
    "# plot the data\n",
    "\n",
    "for name, df in dfnames.items():\n",
    "    plt.plot(df['Timestamp'], df['Voltage'], label=name)\n",
    "plt.title('Voltage Comparison')\n",
    "plt.legend()\n",
    "plt.show()"
   ]
  },
  {
   "cell_type": "code",
   "execution_count": 7,
   "metadata": {},
   "outputs": [
    {
     "name": "stdout",
     "output_type": "stream",
     "text": [
      "0        0.000000\n",
      "1        0.466374\n",
      "2        1.022258\n",
      "3        1.488395\n",
      "4        2.028393\n",
      "          ...    \n",
      "821    418.979504\n",
      "822    419.538092\n",
      "823    420.005279\n",
      "824    420.562191\n",
      "825    421.029668\n",
      "Name: Timestamp, Length: 826, dtype: float64\n",
      "LC709203F 826\n",
      "MAX17043 826\n",
      "Arbin 849\n"
     ]
    }
   ],
   "source": [
    "# convert timestamps to floating values relative to an epoch\n",
    "epoch = output_df['Timestamp'].iat[0]\n",
    "output_df['Timestamp'] = (output_df['Timestamp'] - epoch).dt.total_seconds()\n",
    "print(output_df['Timestamp'])\n",
    "for name, df in dfnames.items():\n",
    "    df['Timestamp'] = (df['Timestamp'] - epoch).dt.total_seconds()\n",
    "    print(name, df.shape[0])"
   ]
  },
  {
   "cell_type": "code",
   "execution_count": 8,
   "metadata": {},
   "outputs": [
    {
     "name": "stdout",
     "output_type": "stream",
     "text": [
      "LC709203F 826\n",
      "MAX17043 826\n",
      "Arbin 826\n"
     ]
    }
   ],
   "source": [
    "# for each timestamp in the output dataframe, find the index of the closest timestamp in each input dataframe\n",
    "# WIP: this is not working as expected\n",
    "\n",
    "indices = {}\n",
    "for name, df in dfnames.items():\n",
    "    indices[name] = df['Timestamp'].searchsorted(output_df['Timestamp'])\n",
    "    print(name, indices[name].shape[0])"
   ]
  }
 ],
 "metadata": {
  "kernelspec": {
   "display_name": "Python 3.10.4 64-bit",
   "language": "python",
   "name": "python3"
  },
  "language_info": {
   "codemirror_mode": {
    "name": "ipython",
    "version": 3
   },
   "file_extension": ".py",
   "mimetype": "text/x-python",
   "name": "python",
   "nbconvert_exporter": "python",
   "pygments_lexer": "ipython3",
   "version": "3.10.4"
  },
  "orig_nbformat": 4,
  "vscode": {
   "interpreter": {
    "hash": "31f2aee4e71d21fbe5cf8b01ff0e069b9275f58929596ceb00d14d90e3e16cd6"
   }
  }
 },
 "nbformat": 4,
 "nbformat_minor": 2
}
