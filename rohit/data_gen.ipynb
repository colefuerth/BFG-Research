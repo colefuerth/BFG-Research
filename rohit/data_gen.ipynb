{
 "cells": [
  {
   "cell_type": "markdown",
   "metadata": {},
   "source": [
    "# Synchronize Timestamps across multiple CSV files\n",
    "\n",
    "- truncate leading and trailing timestamps\n",
    "- uses the lowest resolution timestamp interval from all the CSV files\n",
    "- for each point at the lowest resolution, find the nearest point in each CSV file and collect them into a new CSV file"
   ]
  },
  {
   "cell_type": "code",
   "execution_count": 1,
   "metadata": {},
   "outputs": [],
   "source": [
    "import pandas as pd\n",
    "import datetime\n"
   ]
  },
  {
   "cell_type": "code",
   "execution_count": 2,
   "metadata": {},
   "outputs": [],
   "source": [
    "# create a dict of the dataframes\n",
    "dfnames = {'LC709203F': pd.read_csv(\"LC709203F_5.csv\"), 'MAX17043': pd.read_csv(\n",
    "    \"MAX17043_5.csv\"), 'Arbin': pd.read_csv('BFG_take_2_Channel_2_Wb_1.CSV'), 'INA219': pd.read_csv('INA219_5.csv'), 'SHTC3': pd.read_csv('SHTC3_5.csv')}\n"
   ]
  },
  {
   "cell_type": "code",
   "execution_count": 3,
   "metadata": {},
   "outputs": [],
   "source": [
    "# Prepare Arbin data for comparison with other data\n",
    "\n",
    "# rename relevant columns for comparing to dfnames['BFG1'] and dfnames['BFG2']\n",
    "dfnames['Arbin'] = dfnames['Arbin'].rename(\n",
    "    columns={'Date_Time': 'Timestamp'})\n",
    "# convert the timestamps to datetime objects\n",
    "for name, df in dfnames.items():\n",
    "    df['Timestamp'] = pd.to_datetime(df['Timestamp'])\n",
    "# convert arbin timestamps from EST (-4 at time of recording) to UTC (0)\n",
    "if dfnames['Arbin']['Timestamp'].iat[0].tzinfo is None:\n",
    "    dfnames['Arbin']['Timestamp'] = dfnames['Arbin']['Timestamp'] + \\\n",
    "        datetime.timedelta(hours=4)\n",
    "    dfnames['Arbin']['Timestamp'] = dfnames['Arbin']['Timestamp'].dt.tz_localize(\n",
    "        'UTC')\n",
    "# add decimal seconds to arbin timestamps (arbin timestamps are in whole seconds, but recorded at 2hz)\n",
    "dfnames['Arbin']['Test_Time(s)'] = dfnames['Arbin']['Test_Time(s)'].astype(\n",
    "    float) % 1\n",
    "dfnames['Arbin']['Timestamp'] = dfnames['Arbin']['Timestamp'] + \\\n",
    "    pd.to_timedelta(dfnames['Arbin']['Test_Time(s)'], unit='s')\n"
   ]
  },
  {
   "cell_type": "code",
   "execution_count": 4,
   "metadata": {},
   "outputs": [],
   "source": [
    "# truncate database entries that have timestamps that are leading or trailing\n",
    "\n",
    "# drop datapoints that are outside of the range of the timestamps\n",
    "first = max([df['Timestamp'].iat[0] for df in dfnames.values()])\n",
    "last = min([df['Timestamp'].iat[-1] for df in dfnames.values()])\n",
    "for name, df in dfnames.items():\n",
    "    df = df.drop(df[(df.Timestamp < first) | (df.Timestamp > last)].index)\n",
    "    df = df.reset_index(drop=True)\n",
    "    dfnames[name] = df\n"
   ]
  },
  {
   "cell_type": "code",
   "execution_count": 5,
   "metadata": {},
   "outputs": [],
   "source": [
    "# create the output dataset and fill it with data that can be directly compared to the Arbin data\n",
    "\n",
    "output_df = pd.DataFrame()\n",
    "\n",
    "# reuse the timestamp column with the lowest resolution column\n",
    "output_df['Timestamp'] = max(\n",
    "    dfnames.values(), key=lambda x: x.Timestamp.diff().mean())['Timestamp']\n"
   ]
  },
  {
   "cell_type": "code",
   "execution_count": 6,
   "metadata": {},
   "outputs": [],
   "source": [
    "# convert timestamps to floating values relative to an epoch\n",
    "\n",
    "epoch = output_df['Timestamp'].iat[0]\n",
    "output_df['Timestamp'] = (output_df['Timestamp'] - epoch).dt.total_seconds()\n",
    "# round output timestamps to the nearest ms\n",
    "output_df['Timestamp'] = output_df['Timestamp'].round(3)\n",
    "for name, df in dfnames.items():\n",
    "    df['Timestamp'] = (df['Timestamp'] - epoch).dt.total_seconds()\n"
   ]
  },
  {
   "cell_type": "code",
   "execution_count": 7,
   "metadata": {},
   "outputs": [],
   "source": [
    "# define a function for moving columns from one dataframe to another and aligning timestamps\n",
    "\n",
    "def align_timestamps(output_df: pd.DataFrame, input_df: pd.DataFrame, column_map: dict):\n",
    "    \"\"\"\n",
    "    align timestamps in the input_df onto timestamps in output_df, copy columns using the column_map\n",
    "\n",
    "    parameters:\n",
    "    output_df: the dataframe being copied into\n",
    "    input_df: the dataframe being copied from\n",
    "    column_map: a dict mapping input_df columns to output_df columns\n",
    "    \"\"\"\n",
    "    indices = input_df['Timestamp'].searchsorted(output_df['Timestamp']) - 1\n",
    "    for col, out_col in column_map.items():\n",
    "        output_df[out_col] = pd.Series([input_df[col].iat[i] for i in indices])\n"
   ]
  },
  {
   "cell_type": "code",
   "execution_count": 8,
   "metadata": {},
   "outputs": [],
   "source": [
    "# copy columns from each source df into the output df\n",
    "\n",
    "# start with grabbing anything remotely useful from Arbin\n",
    "align_timestamps(output_df, dfnames['Arbin'], {\n",
    "                 col: col + '_Arbin' for col in 'Current(A),Voltage(V),Power(W),Charge_Capacity(Ah),Discharge_Capacity(Ah),Charge_Energy(Wh),Discharge_Energy(Wh)'.split(',')})\n",
    "\n",
    "# copy columns from LC709203F and MAX17043\n",
    "align_timestamps(output_df, dfnames['LC709203F'], {\n",
    "                 'Voltage': 'Voltage(V)_LC709203F', 'Percentage': 'SOC(%)_LC709203F'})\n",
    "align_timestamps(output_df, dfnames['MAX17043'], {\n",
    "                 'Voltage': 'Voltage(V)_MAX17043', 'Percentage': 'SOC(%)_MAX17043'})\n",
    "align_timestamps(output_df, dfnames['INA219'], {\n",
    "                 'Current (mA)': 'Current (mA)_INA219'})\n",
    "align_timestamps(output_df, dfnames['SHTC3'], {\n",
    "                 header: header + '_SHTC3' for header in 'Temperature (C),Humidity'.split(',')})\n"
   ]
  },
  {
   "cell_type": "code",
   "execution_count": 9,
   "metadata": {},
   "outputs": [],
   "source": [
    "# save the output dataset\n",
    "output_df.to_csv('output.csv', index=False)"
   ]
  }
 ],
 "metadata": {
  "kernelspec": {
   "display_name": "Python 3.10.2 64-bit",
   "language": "python",
   "name": "python3"
  },
  "language_info": {
   "codemirror_mode": {
    "name": "ipython",
    "version": 3
   },
   "file_extension": ".py",
   "mimetype": "text/x-python",
   "name": "python",
   "nbconvert_exporter": "python",
   "pygments_lexer": "ipython3",
   "version": "3.10.2"
  },
  "orig_nbformat": 4,
  "vscode": {
   "interpreter": {
    "hash": "26de051ba29f2982a8de78e945f0abaf191376122a1563185a90213a26c5da77"
   }
  }
 },
 "nbformat": 4,
 "nbformat_minor": 2
}
